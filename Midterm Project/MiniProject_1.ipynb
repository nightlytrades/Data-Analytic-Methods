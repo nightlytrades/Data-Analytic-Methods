{
 "cells": [
  {
   "cell_type": "code",
   "execution_count": 3,
   "id": "84980e8d-e1bd-4e8c-aa9a-b6bcc4b38eea",
   "metadata": {},
   "outputs": [],
   "source": [
    "import pandas as pd\n",
    "import matplotlib.pyplot as plt\n",
    "import numpy as np"
   ]
  },
  {
   "cell_type": "code",
   "execution_count": 4,
   "id": "a9e9b953",
   "metadata": {},
   "outputs": [
    {
     "data": {
      "text/html": [
       "<div>\n",
       "<style scoped>\n",
       "    .dataframe tbody tr th:only-of-type {\n",
       "        vertical-align: middle;\n",
       "    }\n",
       "\n",
       "    .dataframe tbody tr th {\n",
       "        vertical-align: top;\n",
       "    }\n",
       "\n",
       "    .dataframe thead th {\n",
       "        text-align: right;\n",
       "    }\n",
       "</style>\n",
       "<table border=\"1\" class=\"dataframe\">\n",
       "  <thead>\n",
       "    <tr style=\"text-align: right;\">\n",
       "      <th></th>\n",
       "      <th>How often do you attend office hours?</th>\n",
       "      <th>How often do you attend lectures for your classes?</th>\n",
       "      <th>How often do you ask questions in your lectures?</th>\n",
       "      <th>Do you work on or off campus?</th>\n",
       "      <th>How many extracurricular activities do you partake in? (Clubs/Fraternities, Teams, Sports, Jobs).</th>\n",
       "      <th>How many hours in a typical week do you work?</th>\n",
       "    </tr>\n",
       "  </thead>\n",
       "  <tbody>\n",
       "    <tr>\n",
       "      <th>0</th>\n",
       "      <td>2</td>\n",
       "      <td>5</td>\n",
       "      <td>2</td>\n",
       "      <td>On campus</td>\n",
       "      <td>1</td>\n",
       "      <td>20</td>\n",
       "    </tr>\n",
       "    <tr>\n",
       "      <th>1</th>\n",
       "      <td>1</td>\n",
       "      <td>5</td>\n",
       "      <td>2</td>\n",
       "      <td>Off Campus</td>\n",
       "      <td>2</td>\n",
       "      <td>20</td>\n",
       "    </tr>\n",
       "    <tr>\n",
       "      <th>2</th>\n",
       "      <td>2</td>\n",
       "      <td>5</td>\n",
       "      <td>4</td>\n",
       "      <td>NaN</td>\n",
       "      <td>2</td>\n",
       "      <td>0</td>\n",
       "    </tr>\n",
       "    <tr>\n",
       "      <th>3</th>\n",
       "      <td>3</td>\n",
       "      <td>4</td>\n",
       "      <td>2</td>\n",
       "      <td>Off Campus</td>\n",
       "      <td>1</td>\n",
       "      <td>10</td>\n",
       "    </tr>\n",
       "    <tr>\n",
       "      <th>4</th>\n",
       "      <td>1</td>\n",
       "      <td>5</td>\n",
       "      <td>1</td>\n",
       "      <td>NaN</td>\n",
       "      <td>0</td>\n",
       "      <td>0</td>\n",
       "    </tr>\n",
       "  </tbody>\n",
       "</table>\n",
       "</div>"
      ],
      "text/plain": [
       "   How often do you attend office hours?  \\\n",
       "0                                      2   \n",
       "1                                      1   \n",
       "2                                      2   \n",
       "3                                      3   \n",
       "4                                      1   \n",
       "\n",
       "   How often do you attend lectures for your classes?  \\\n",
       "0                                                  5    \n",
       "1                                                  5    \n",
       "2                                                  5    \n",
       "3                                                  4    \n",
       "4                                                  5    \n",
       "\n",
       "   How often do you ask questions in your lectures?  \\\n",
       "0                                                 2   \n",
       "1                                                 2   \n",
       "2                                                 4   \n",
       "3                                                 2   \n",
       "4                                                 1   \n",
       "\n",
       "  Do you work on or off campus?  \\\n",
       "0                     On campus   \n",
       "1                    Off Campus   \n",
       "2                           NaN   \n",
       "3                    Off Campus   \n",
       "4                           NaN   \n",
       "\n",
       "  How many extracurricular activities do you partake in? (Clubs/Fraternities, Teams, Sports, Jobs).  \\\n",
       "0                                                  1                                                  \n",
       "1                                                  2                                                  \n",
       "2                                                  2                                                  \n",
       "3                                                  1                                                  \n",
       "4                                                  0                                                  \n",
       "\n",
       "  How many hours in a typical week do you work?  \n",
       "0                                            20  \n",
       "1                                            20  \n",
       "2                                             0  \n",
       "3                                            10  \n",
       "4                                             0  "
      ]
     },
     "execution_count": 4,
     "metadata": {},
     "output_type": "execute_result"
    }
   ],
   "source": [
    "df_full = pd.read_csv(\"survey.csv\")\n",
    "df = df_full[['How often do you attend office hours?', 'How often do you attend lectures for your classes?', 'How often do you ask questions in your lectures?', 'Do you work on or off campus?', 'How many extracurricular activities do you partake in? (Clubs/Fraternities, Teams, Sports, Jobs).', 'How many hours in a typical week do you work?']].copy()\n",
    "df.head()\n",
    "\n",
    "          \n",
    "          \n",
    "          \n",
    "          "
   ]
  },
  {
   "cell_type": "code",
   "execution_count": 8,
   "id": "5f60c124-bea5-4a08-a25e-4992e8bdabf8",
   "metadata": {},
   "outputs": [
    {
     "name": "stderr",
     "output_type": "stream",
     "text": [
      "/var/folders/vk/tr9t33l577gdzrfwyjryby880000gn/T/ipykernel_79901/2476962809.py:7: FutureWarning: In a future version of pandas all arguments of DataFrame.dropna will be keyword-only.\n",
      "  df_2=df_2.apply(lambda x: pd.to_numeric(x, errors='coerce')).dropna(0)\n"
     ]
    },
    {
     "data": {
      "text/plain": [
       "Text(0, 0.5, 'Frequency')"
      ]
     },
     "execution_count": 8,
     "metadata": {},
     "output_type": "execute_result"
    },
    {
     "data": {
      "image/png": "[encoded data removed]",
      "text/plain": [
       "<Figure size 432x288 with 2 Axes>"
      ]
     },
     "metadata": {
      "needs_background": "light"
     },
     "output_type": "display_data"
    }
   ],
   "source": [
    "df_2=df.drop(columns=['How often do you attend office hours?','How often do you attend lectures for your classes?',\n",
    "                      'How often do you ask questions in your lectures?','Do you work on or off campus?']).astype(str)\n",
    "\n",
    "\n",
    "df_2.head()\n",
    "\n",
    "df_2=df_2.apply(lambda x: pd.to_numeric(x, errors='coerce')).dropna(0)\n",
    "##plt.hist(df_2, bins = 2)\n",
    "hist = df_2.hist(bins=2)\n",
    "plt.xlabel('Bins')\n",
    "\n",
    "plt.ylabel('Frequency')\n",
    "\n"
   ]
  },
  {
   "cell_type": "code",
   "execution_count": 26,
   "id": "3d066caf",
   "metadata": {},
   "outputs": [
    {
     "data": {
      "text/html": [
       "<div>\n",
       "<style scoped>\n",
       "    .dataframe tbody tr th:only-of-type {\n",
       "        vertical-align: middle;\n",
       "    }\n",
       "\n",
       "    .dataframe tbody tr th {\n",
       "        vertical-align: top;\n",
       "    }\n",
       "\n",
       "    .dataframe thead th {\n",
       "        text-align: right;\n",
       "    }\n",
       "</style>\n",
       "<table border=\"1\" class=\"dataframe\">\n",
       "  <thead>\n",
       "    <tr style=\"text-align: right;\">\n",
       "      <th></th>\n",
       "      <th>How many extracurricular activities do you partake in? (Clubs/Fraternities, Teams, Sports, Jobs).</th>\n",
       "      <th>How many hours in a typical week do you work?</th>\n",
       "    </tr>\n",
       "  </thead>\n",
       "  <tbody>\n",
       "    <tr>\n",
       "      <th>0</th>\n",
       "      <td>1.0</td>\n",
       "      <td>20.0</td>\n",
       "    </tr>\n",
       "    <tr>\n",
       "      <th>1</th>\n",
       "      <td>2.0</td>\n",
       "      <td>20.0</td>\n",
       "    </tr>\n",
       "    <tr>\n",
       "      <th>2</th>\n",
       "      <td>2.0</td>\n",
       "      <td>0.0</td>\n",
       "    </tr>\n",
       "    <tr>\n",
       "      <th>3</th>\n",
       "      <td>1.0</td>\n",
       "      <td>10.0</td>\n",
       "    </tr>\n",
       "    <tr>\n",
       "      <th>4</th>\n",
       "      <td>0.0</td>\n",
       "      <td>0.0</td>\n",
       "    </tr>\n",
       "  </tbody>\n",
       "</table>\n",
       "</div>"
      ],
      "text/plain": [
       "   How many extracurricular activities do you partake in? (Clubs/Fraternities, Teams, Sports, Jobs).  \\\n",
       "0                                                1.0                                                   \n",
       "1                                                2.0                                                   \n",
       "2                                                2.0                                                   \n",
       "3                                                1.0                                                   \n",
       "4                                                0.0                                                   \n",
       "\n",
       "   How many hours in a typical week do you work?  \n",
       "0                                           20.0  \n",
       "1                                           20.0  \n",
       "2                                            0.0  \n",
       "3                                           10.0  \n",
       "4                                            0.0  "
      ]
     },
     "execution_count": 26,
     "metadata": {},
     "output_type": "execute_result"
    }
   ],
   "source": [
    "df_2.head()"
   ]
  },
  {
   "cell_type": "code",
   "execution_count": null,
   "id": "76eb759d",
   "metadata": {},
   "outputs": [],
   "source": []
  }
 ],
 "metadata": {
  "kernelspec": {
   "display_name": "Python 3 (ipykernel)",
   "language": "python",
   "name": "python3"
  },
  "language_info": {
   "codemirror_mode": {
    "name": "ipython",
    "version": 3
   },
   "file_extension": ".py",
   "mimetype": "text/x-python",
   "name": "python",
   "nbconvert_exporter": "python",
   "pygments_lexer": "ipython3",
   "version": "3.8.9"
  }
 },
 "nbformat": 4,
 "nbformat_minor": 5
}
